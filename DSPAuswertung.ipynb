{
 "cells": [
  {
   "cell_type": "markdown",
   "metadata": {},
   "source": [
    "# DSP Auswertung\n",
    "**Date**: october 2015\n",
    "**Author**: ESR\n",
    "\n",
    "----\n",
    " **Notwendige Modulen**"
   ]
  },
  {
   "cell_type": "code",
   "execution_count": 2,
   "metadata": {
    "collapsed": false,
    "scrolled": false
   },
   "outputs": [
    {
     "name": "stdout",
     "output_type": "stream",
     "text": [
      "The autoreload extension is already loaded. To reload it, use:\n",
      "  %reload_ext autoreload\n"
     ]
    }
   ],
   "source": [
    "%reset -f\n",
    "%matplotlib notebook\n",
    "%load_ext autoreload\n",
    "%autoreload 1\n",
    "%aimport functions_and_utils\n",
    "import numpy as np\n",
    "import copy\n",
    "import acoustics\n",
    "from functions_and_utils import *\n",
    "import matplotlib.pyplot as plt\n",
    "import matplotlib as mpl\n",
    "import seaborn as sns\n",
    "mpl.rcParams['lines.linewidth']=0.5\n",
    "# uncomment next line to connect a qtconsole to the same session\n",
    "#%qtconsole"
   ]
  },
  {
   "cell_type": "markdown",
   "metadata": {},
   "source": [
    "## Daten und Signale Importieren\n",
    "\n",
    "Die passby Tabelle ist direct vom EMPA übernommen. Diese wird durch den script [Ereigniss_to_json.py](Tabellen/Ereigniss_to_json.py) generiert.\n",
    "Folgende änderungen sind gemacht:\n",
    "\n",
    " 1. passby 14 wird als 'Regio' bezeichnet\n",
    " 2. passby 13 von 'Regio' to 'IC'"
   ]
  },
  {
   "cell_type": "code",
   "execution_count": 2,
   "metadata": {
    "collapsed": true
   },
   "outputs": [],
   "source": [
    "%%capture \n",
    "import json\n",
    "passby = json.load(open('Tabellen\\passby.json','r+'))\n",
    "fill_passby_with_signals(passby)\n",
    "#test\n",
    "#passby = {k:passby[k] for k in['1','12','3']} "
   ]
  },
  {
   "cell_type": "markdown",
   "metadata": {},
   "source": [
    "## Verschiedene Grössen werden für jeden passby  bzw. Abschnit berechnet \n",
    "Für Details [analyseLS](analyseLS.ipynb) anschauen.\n",
    "\n",
    "Für alle passby:\n",
    "\n",
    "    1. Anzahl Achsen \n",
    "    2. Achsen Abstand\n",
    "    \n",
    "Für alle Abschnitte:\n",
    "\n",
    "    1. berechne bandpass signal\n",
    "\n",
    "Für die Abschnitte **Q1** und **Q2**\n",
    "    \n",
    "    2. berechne tPeaks\n",
    "    3. berechne Speeds\n"
   ]
  },
  {
   "cell_type": "code",
   "execution_count": 3,
   "metadata": {
    "collapsed": false
   },
   "outputs": [],
   "source": [
    "%%capture\n",
    "for pbID, pb in passby.items():\n",
    "    #fill axledistance\n",
    "    #https://de.wikipedia.org/wiki/Drehgestelltypen_%28Schweiz%29\n",
    "    if pb['Zugstyp']=='IC':\n",
    "        pb['axleDistance'] = 2.5\n",
    "    else:\n",
    "        pb['axleDistance'] = 2.5\n",
    "        \n",
    "    for A in ['Q1','Q2','Q3','Q4']:\n",
    "        v = pb[A]\n",
    "        #v['signals']['bandpass'] = v['signals']['MIC'].bandpass(20,20000)\n",
    "        v['signals']['A'] = v['signals']['MIC'].weigh()\n",
    "        if A in ['Q1','Q4']:\n",
    "            v['tPeaks'] = detect_weel_times(v['signals']['LS'])\n",
    "            iterator = zip(['vAv', 'dv', 'ti_vi'], train_speed(v['tPeaks'], axleDistance = pb['axleDistance']))\n",
    "            v.update( {k:v for k,v in iterator} )\n",
    "    assert(len(pb['Q1']['tPeaks'])==len(pb['Q4']['tPeaks']))\n",
    "    pb['axleN'] = len(pb['Q1']['tPeaks'])\n",
    "    "
   ]
  },
  {
   "cell_type": "markdown",
   "metadata": {},
   "source": [
    "----\n",
    "## Spektren Berechnen\n",
    "Für Details [SpektrenBerechnen](SpektrenBerechnen.ipynb) anschauen.\n",
    "\n",
    "### Auswertung Intervalle: Aufteilung des Zug definieren \n",
    "\n",
    "#### für Abschnitten **Q1** und **Q4**\n",
    "- `full`: gesamte signal\n",
    "- `n`: Wagenmitte der n-te Wagen bis zur Wagenmitte der n+1 Wagen\n",
    "\n",
    "Die nächste funktion implementiert die Intervalle aus die Vorbeifahrtszeiten jedes Drehgestell"
   ]
  },
  {
   "cell_type": "code",
   "execution_count": 4,
   "metadata": {
    "collapsed": false
   },
   "outputs": [],
   "source": [
    "def defIntervals(tp):\n",
    "    Intervals = {\n",
    "                'full': (-np.inf,np.inf)\n",
    "                #'vorbei': (tp.min(),tp.max()),\n",
    "                }\n",
    "    t = tp.reshape(len(tp)//4,4).mean(1)\n",
    "\n",
    "    for n, (t1,t2) in enumerate(zip(t[:-1],t[1:])):\n",
    "        Intervals[int(n+1)] = (t1,t2)\n",
    "    return Intervals"
   ]
  },
  {
   "cell_type": "markdown",
   "metadata": {},
   "source": [
    "#### für Abschnitten **Q2** und **Q3**\n",
    "- `full`: gesamte signal"
   ]
  },
  {
   "cell_type": "code",
   "execution_count": 5,
   "metadata": {
    "collapsed": true
   },
   "outputs": [],
   "source": [
    "for pbID, pb in passby.items():\n",
    "    # Intervals füllen\n",
    "    for A in ['Q1','Q4']:\n",
    "        v = pb[A]\n",
    "        v['intervals'] = defIntervals(v['tPeaks'])\n",
    "        \n",
    "    for A in ['Q2','Q3']:\n",
    "        v = pb[A]\n",
    "        v['intervals'] = {'full': (-np.inf,np.inf)}"
   ]
  },
  {
   "cell_type": "markdown",
   "metadata": {},
   "source": [
    "## Passby mit die Terzpektren ausfüllen\n",
    "    \n",
    "    1. passby mit intervalle füllen\n",
    "    2. passby mit `leq` Spektren für die definierte intervalle\n"
   ]
  },
  {
   "cell_type": "code",
   "execution_count": 6,
   "metadata": {
    "collapsed": false
   },
   "outputs": [],
   "source": [
    "Bands = acoustics.signal.OctaveBand(fstart = 100, fstop = 8000, fraction=3)#AB 100Hz wegen nahfeldeffekte\n",
    "for pbID, pb in passby.items():\n",
    "    for A in ['Q1','Q2','Q3','Q4']:\n",
    "        # calc Octave\n",
    "        v = pb[A]\n",
    "        # wähle intervalle\n",
    "        intervals=v['intervals']\n",
    "        # berechne gefiterte signale\n",
    "        sn = pb[A]['signals']['A']\n",
    "        f , octFilterBank =  sn.third_octaves(frequencies = Bands.nominal)\n",
    "        # leq\n",
    "        spektrum, leq = cut_third_oct_spectrum( octFilterBank, intervals, lType= 'leq')\n",
    "        v['spektrum'].update(spektrum)\n",
    "        v.setdefault('leq',{}).update(leq)\n",
    "        v['spektrum']['f'] = f.nominal"
   ]
  },
  {
   "cell_type": "markdown",
   "metadata": {},
   "source": [
    "## Werte in .json exportieren\n",
    "\n",
    "die Classe MyEncoder ermöglicht das speichern von das dict `passby` wie folgt:\n",
    "\n",
    "- ohne Zeitsignalen\n",
    "- np.array werden  als listen gespeichert\n"
   ]
  },
  {
   "cell_type": "code",
   "execution_count": 7,
   "metadata": {
    "collapsed": false,
    "scrolled": false
   },
   "outputs": [],
   "source": [
    "%%capture\n",
    "passby['Beschreibung'] = \"postprocessing der Vorbeifarten.\\n Die postprocessing ist im `DSPAuswertung.ipynb` zu sehen. \"\n",
    "with open('DSPResults.json', 'w+') as data:\n",
    "    json.dump( passby, data, cls = MyEncoder)"
   ]
  }
 ],
 "metadata": {
  "celltoolbar": "Raw Cell Format",
  "kernelspec": {
   "display_name": "Python 3",
   "language": "python",
   "name": "python3"
  },
  "language_info": {
   "codemirror_mode": {
    "name": "ipython",
    "version": 3
   },
   "file_extension": ".py",
   "mimetype": "text/x-python",
   "name": "python",
   "nbconvert_exporter": "python",
   "pygments_lexer": "ipython3",
   "version": "3.4.3"
  }
 },
 "nbformat": 4,
 "nbformat_minor": 0
}

{
 "cells": [
  {
   "cell_type": "markdown",
   "metadata": {},
   "source": [
    "# Auswertung Vorbefahrt Niederwangen \n",
    "----\n",
    "**Author** :ESR\n",
    "\n",
    "**Date**: September 2015\n",
    "\n",
    "----\n",
    "## Messungübersicht\n",
    "1. **Q1**, Referenzabschnitt ohne Dampfer, Diesem Abschnitt ist mit Lichschranke\n",
    "\n",
    " Oberbau\n",
    " -Betonschwelle auf Schotterbett\n",
    " \n",
    "\n",
    "\n",
    "----\n",
    "## Auswertungsübersicht \n",
    "\n",
    "### DSP Auswertung\n",
    "### Statistische Auswertung\n",
    "\n",
    "---\n",
    "### Bemerkungen\n",
    "\n",
    "\n",
    "1. **Verwendete tools**\n",
    "    \n",
    "    - Die DSP Auswertung wird mithilfe von python durchgefuhrt und mit [jupyther](https://jupyter.org/)-notebooks dokumentiert. Den Script [functions_and_utils](functions_and_utils.py) enthält die verwendete rutinen. Den Modul [python-acoustics](https://github.com/python-acoustics/python-acoustics) wurde für die akustisc\n",
    "\n",
    "    - Fur die Statistische Auswertung wird R  im zusammenhang mit .Rmd Dokumente  verwendet.\n",
    "    \n",
    "\n",
    "2. **Hauptordner**\n",
    "    * Ordner\n",
    "        - `\\Ereignisse` \n",
    "        - `Tabellen`\n",
    " "
   ]
  },
  {
   "cell_type": "code",
   "execution_count": 1,
   "metadata": {},
   "outputs": [
    {
     "name": "stdout",
     "output_type": "stream",
     "text": [
      " Datentr„ger in Laufwerk D: ist DATA\n",
      " Volumeseriennummer: E0EC-0468\n",
      "\n",
      " Verzeichnis von D:\\EMPA\n",
      "\n",
      "\n",
      " Verzeichnis von D:\\EMPA\n",
      "\n",
      "15.10.2015  22:31               813 AuswertungVorbeifahrtNiderwangen.ipynb\n",
      "15.10.2015  22:24           442'279 DSPAuswertung.ipynb\n",
      "15.10.2015  20:41             4'553 functions_and_utils.py\n",
      "               3 Datei(en),        447'645 Bytes\n",
      "               0 Verzeichnis(se), 57'577'332'736 Bytes frei\n"
     ]
    }
   ],
   "source": [
    "%ls *.ipynb *.py"
   ]
  },
  {
   "cell_type": "code",
   "execution_count": null,
   "metadata": {},
   "outputs": [],
   "source": [
    ""
   ]
  }
 ],
 "metadata": {
  "kernelspec": {
   "display_name": "Python 3",
   "language": "python",
   "name": "python3"
  },
  "language_info": {
   "codemirror_mode": {
    "name": "ipython",
    "version": 3.0
   },
   "file_extension": ".py",
   "mimetype": "text/x-python",
   "name": "python",
   "nbconvert_exporter": "python",
   "pygments_lexer": "ipython3",
   "version": "3.4.3"
  }
 },
 "nbformat": 4,
 "nbformat_minor": 0
}